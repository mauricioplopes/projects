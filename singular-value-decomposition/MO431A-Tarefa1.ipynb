{
 "cells": [
  {
   "cell_type": "markdown",
   "metadata": {},
   "source": [
    "# MO431A - Tarefa 1\n",
    "\n",
    "### 1- Leia o arquivo dados.npy"
   ]
  },
  {
   "cell_type": "code",
   "execution_count": 89,
   "metadata": {},
   "outputs": [],
   "source": [
    "# carregamento de bibliotecas\n",
    "\n",
    "import numpy as np\n",
    "from sklearn.decomposition import TruncatedSVD\n",
    "from sklearn.utils.extmath import randomized_svd\n",
    "import matplotlib.pyplot as plt"
   ]
  },
  {
   "cell_type": "code",
   "execution_count": 90,
   "metadata": {},
   "outputs": [],
   "source": [
    "# carregando o arquivo de dados\n",
    "X = np.load(\"dados.npy\")"
   ]
  },
  {
   "cell_type": "code",
   "execution_count": 91,
   "metadata": {
    "scrolled": true
   },
   "outputs": [
    {
     "data": {
      "text/plain": [
       "(10500, 784)"
      ]
     },
     "execution_count": 91,
     "metadata": {},
     "output_type": "execute_result"
    }
   ],
   "source": [
    "# validando as dimensões da matrix X dos dados\n",
    "X.shape"
   ]
  },
  {
   "cell_type": "markdown",
   "metadata": {},
   "source": [
    "### 2 - Imprima a imagem dos 3 primeiros dígitos"
   ]
  },
  {
   "cell_type": "code",
   "execution_count": 92,
   "metadata": {
    "scrolled": false
   },
   "outputs": [
    {
     "data": {
      "image/png": "[encoded data removed]",
      "text/plain": [
       "<Figure size 432x288 with 1 Axes>"
      ]
     },
     "metadata": {
      "needs_background": "light"
     },
     "output_type": "display_data"
    },
    {
     "data": {
      "image/png": "[encoded data removed]",
      "text/plain": [
       "<Figure size 432x288 with 1 Axes>"
      ]
     },
     "metadata": {
      "needs_background": "light"
     },
     "output_type": "display_data"
    },
    {
     "data": {
      "image/png": "[encoded data removed]",
      "text/plain": [
       "<Figure size 432x288 with 1 Axes>"
      ]
     },
     "metadata": {
      "needs_background": "light"
     },
     "output_type": "display_data"
    }
   ],
   "source": [
    "for i in range(3):\n",
    "    plt.figure()\n",
    "    plt.imshow(X[i].reshape(28,28), cmap = 'gray')"
   ]
  },
  {
   "cell_type": "markdown",
   "metadata": {},
   "source": [
    "### 3 - Faça a fatoração SVD da matriz X"
   ]
  },
  {
   "cell_type": "code",
   "execution_count": 93,
   "metadata": {},
   "outputs": [],
   "source": [
    "# normalização para média zero\n",
    "X_norm = X - np.mean(X, axis = 0)"
   ]
  },
  {
   "cell_type": "code",
   "execution_count": 94,
   "metadata": {},
   "outputs": [],
   "source": [
    "# calculando SVD com full_matrix\n",
    "U_full, D_full, VT_full = np.linalg.svd(X_norm, full_matrices = True)\n",
    "\n",
    "# calculando SVD compacta\n",
    "U_cpct, D_cpct, VT_cpct = np.linalg.svd(X_norm, full_matrices = False)"
   ]
  },
  {
   "cell_type": "code",
   "execution_count": 95,
   "metadata": {},
   "outputs": [
    {
     "data": {
      "text/plain": [
       "((10500, 10500), (784,), (784, 784))"
      ]
     },
     "execution_count": 95,
     "metadata": {},
     "output_type": "execute_result"
    }
   ],
   "source": [
    "# dimensões das matrizes SVD com full_matrix\n",
    "U_full.shape, D_full.shape, VT_full.shape"
   ]
  },
  {
   "cell_type": "code",
   "execution_count": 96,
   "metadata": {},
   "outputs": [
    {
     "data": {
      "text/plain": [
       "((10500, 784), (784,), (784, 784))"
      ]
     },
     "execution_count": 96,
     "metadata": {},
     "output_type": "execute_result"
    }
   ],
   "source": [
    "# dimensões das matrizes SVD compacta\n",
    "U_cpct.shape, D_cpct.shape, VT_cpct.shape"
   ]
  },
  {
   "cell_type": "markdown",
   "metadata": {},
   "source": [
    "### 4 - SVD Truncado"
   ]
  },
  {
   "cell_type": "markdown",
   "metadata": {},
   "source": [
    "#### Cálculos utilizando os resultados do SVD anteriores. Sem utilizar funções pré-definidas para SVD truncado"
   ]
  },
  {
   "cell_type": "code",
   "execution_count": 97,
   "metadata": {},
   "outputs": [],
   "source": [
    "# a partir das componentes calculadas acima no SVD compacto, fazer o SVD truncado com 100 dimensões\n",
    "dim = 100\n",
    "U_trunc = U_cpct[:, 0:dim]\n",
    "D_trunc = D_cpct[0:dim]\n",
    "VT_trunc = VT_cpct[0:dim, :]"
   ]
  },
  {
   "cell_type": "code",
   "execution_count": 98,
   "metadata": {},
   "outputs": [
    {
     "data": {
      "text/plain": [
       "((10500, 100), (100,), (100, 784))"
      ]
     },
     "execution_count": 98,
     "metadata": {},
     "output_type": "execute_result"
    }
   ],
   "source": [
    "U_trunc.shape, D_trunc.shape, VT_trunc.shape"
   ]
  },
  {
   "cell_type": "code",
   "execution_count": 99,
   "metadata": {},
   "outputs": [
    {
     "data": {
      "text/plain": [
       "(10500, 100)"
      ]
     },
     "execution_count": 99,
     "metadata": {},
     "output_type": "execute_result"
    }
   ],
   "source": [
    "# matrix X projetada no espaço de 100 dimensões\n",
    "X_projetada = U_trunc * D_trunc\n",
    "X_projetada.shape"
   ]
  },
  {
   "cell_type": "code",
   "execution_count": 100,
   "metadata": {},
   "outputs": [
    {
     "data": {
      "text/plain": [
       "(10500, 784)"
      ]
     },
     "execution_count": 100,
     "metadata": {},
     "output_type": "execute_result"
    }
   ],
   "source": [
    "# matriz reconstruída atravez do SVD truncado\n",
    "X_reconstruida = np.dot(X_projetada, VT_trunc)\n",
    "X_reconstruida.shape"
   ]
  },
  {
   "cell_type": "markdown",
   "metadata": {},
   "source": [
    "#### Cálculos utilizando a função TruncatedSVD do SKLEARN"
   ]
  },
  {
   "cell_type": "code",
   "execution_count": 101,
   "metadata": {},
   "outputs": [],
   "source": [
    "# cálculo do SVD truncado com 100 dimensões\n",
    "svd_trunc = TruncatedSVD(n_components = dim, random_state = 42)"
   ]
  },
  {
   "cell_type": "code",
   "execution_count": 102,
   "metadata": {},
   "outputs": [
    {
     "data": {
      "text/plain": [
       "(10500, 100)"
      ]
     },
     "execution_count": 102,
     "metadata": {},
     "output_type": "execute_result"
    }
   ],
   "source": [
    "# cálculo da matriz X projetada no espaço de 100 dimensões\n",
    "X_projetada_2 = svd_trunc.fit_transform(X_norm)\n",
    "\n",
    "# dimensões da matriz X projetada\n",
    "X_projetada_2.shape"
   ]
  },
  {
   "cell_type": "code",
   "execution_count": 103,
   "metadata": {},
   "outputs": [
    {
     "data": {
      "text/plain": [
       "(10500, 784)"
      ]
     },
     "execution_count": 103,
     "metadata": {},
     "output_type": "execute_result"
    }
   ],
   "source": [
    "# matriz reconstruída atravez da função TruncatedSVD\n",
    "X_reconstruida_2 = svd_trunc.inverse_transform(X_projetada_2)\n",
    "X_reconstruida_2.shape"
   ]
  },
  {
   "cell_type": "markdown",
   "metadata": {},
   "source": [
    "#### Cálculos utilizando PCA do SKLEARN"
   ]
  },
  {
   "cell_type": "code",
   "execution_count": 104,
   "metadata": {},
   "outputs": [],
   "source": [
    "from sklearn.decomposition import PCA\n",
    "pca = PCA(n_components = dim, random_state = 42)"
   ]
  },
  {
   "cell_type": "code",
   "execution_count": 105,
   "metadata": {},
   "outputs": [
    {
     "data": {
      "text/plain": [
       "(10500, 100)"
      ]
     },
     "execution_count": 105,
     "metadata": {},
     "output_type": "execute_result"
    }
   ],
   "source": [
    "X_projetada_3 = pca.fit_transform(X_norm)\n",
    "\n",
    "X_projetada_3.shape"
   ]
  },
  {
   "cell_type": "code",
   "execution_count": 106,
   "metadata": {},
   "outputs": [
    {
     "data": {
      "text/plain": [
       "(10500, 784)"
      ]
     },
     "execution_count": 106,
     "metadata": {},
     "output_type": "execute_result"
    }
   ],
   "source": [
    "# matriz reconstruída atravez da função pca\n",
    "X_reconstruida_3 = pca.inverse_transform(X_projetada_3)\n",
    "X_reconstruida_3.shape"
   ]
  },
  {
   "cell_type": "markdown",
   "metadata": {},
   "source": [
    "### 5 - Imprima a imagem reconstruída dos 3 primeiros dígitos"
   ]
  },
  {
   "cell_type": "code",
   "execution_count": 107,
   "metadata": {
    "scrolled": false
   },
   "outputs": [
    {
     "data": {
      "image/png": "[encoded data removed]",
      "text/plain": [
       "<Figure size 864x864 with 15 Axes>"
      ]
     },
     "metadata": {
      "needs_background": "light"
     },
     "output_type": "display_data"
    }
   ],
   "source": [
    "# comparação entre as imagens originais (primeira coluna),\n",
    "# normalizadas com média zero (segunda coluna)\n",
    "# e reconstruídas sem o uso de função pronta (terceira coluna),\n",
    "# com o uso da função TruncatedSVD (quarta coluna)\n",
    "# e com uso de pca (quinta coluna)\n",
    "\n",
    "fig = plt.figure(figsize=(12, 12))\n",
    "p = 1\n",
    "for i in range(3):\n",
    "    # imagem original\n",
    "    img1 = X[i].reshape(28,28)\n",
    "    fig.add_subplot(3, 5, p)\n",
    "    plt.imshow(img1, cmap = 'gray')\n",
    "    \n",
    "    # imagem original normalizada com média zero\n",
    "    img2 = X_norm[i].reshape(28,28)\n",
    "    fig.add_subplot(3, 5, p + 1)\n",
    "    plt.imshow(img2, cmap = 'gray')\n",
    "    \n",
    "    # imagem reconstruída a partir do SVD truncado calculado\n",
    "    img3 = X_reconstruida[i].reshape(28,28)\n",
    "    fig.add_subplot(3, 5, p + 2)\n",
    "    plt.imshow(img3, cmap = 'gray')\n",
    "\n",
    "    # imagem reconstruída com o uso da função TruncatedSVD\n",
    "    img4 = X_reconstruida_2[i].reshape(28,28)\n",
    "    fig.add_subplot(3, 5, p + 3)\n",
    "    plt.imshow(img3, cmap = 'gray')\n",
    "    \n",
    "    # imagem reconstruída com o uso da função pca\n",
    "    img5 = X_reconstruida_3[i].reshape(28,28)\n",
    "    fig.add_subplot(3, 5, p + 4)\n",
    "    plt.imshow(img3, cmap = 'gray')\n",
    "    \n",
    "    p = p + 5\n",
    "\n",
    "plt.show()"
   ]
  },
  {
   "cell_type": "markdown",
   "metadata": {},
   "source": [
    "### 6 - Imprima os 3 primeiros eigen-dígitos"
   ]
  },
  {
   "cell_type": "code",
   "execution_count": 108,
   "metadata": {
    "scrolled": false
   },
   "outputs": [
    {
     "data": {
      "image/png": "[encoded data removed]",
      "text/plain": [
       "<Figure size 432x288 with 1 Axes>"
      ]
     },
     "metadata": {
      "needs_background": "light"
     },
     "output_type": "display_data"
    },
    {
     "data": {
      "image/png": "[encoded data removed]",
      "text/plain": [
       "<Figure size 432x288 with 1 Axes>"
      ]
     },
     "metadata": {
      "needs_background": "light"
     },
     "output_type": "display_data"
    },
    {
     "data": {
      "image/png": "[encoded data removed]",
      "text/plain": [
       "<Figure size 432x288 with 1 Axes>"
      ]
     },
     "metadata": {
      "needs_background": "light"
     },
     "output_type": "display_data"
    }
   ],
   "source": [
    "# eigen-dígitos são as linhas da matrix VT de 784 linhas por 784 colunas\n",
    "# no caso esão sendo impressas as 3 primeiras linhas da VT do SVD compacto\n",
    "for i in range(3):\n",
    "    plt.figure()\n",
    "    plt.imshow(VT_cpct[i].reshape(28,28), cmap = 'gray')"
   ]
  },
  {
   "cell_type": "markdown",
   "metadata": {},
   "source": [
    "### 7 - Decidindo o número de dimensões\n",
    "\n",
    "#### 7.1 - Quantas dimensões manter usando a regra de usar singular values maior que 1"
   ]
  },
  {
   "cell_type": "code",
   "execution_count": 109,
   "metadata": {},
   "outputs": [
    {
     "name": "stdout",
     "output_type": "stream",
     "text": [
      "O número de dimensões por esta regra é: 671\n"
     ]
    }
   ],
   "source": [
    "# selecionar as linhas da matriz D que tiverem single values maiores que 1\n",
    "# np.where abaixo filtra todos os valores de D que forem maiores que 1 e retorna os índices destas linhas\n",
    "num_dim = np.where( D_cpct > 1 )[0].shape[0]\n",
    "print(\"O número de dimensões por esta regra é:\", num_dim)"
   ]
  },
  {
   "cell_type": "markdown",
   "metadata": {},
   "source": [
    "#### 7.2 - Quantas dimensões manter para capturar 80% da variância dos dados"
   ]
  },
  {
   "cell_type": "code",
   "execution_count": 110,
   "metadata": {},
   "outputs": [
    {
     "name": "stdout",
     "output_type": "stream",
     "text": [
      "Variância acumulada com 235 dimensões: 0.8004557116328009\n"
     ]
    }
   ],
   "source": [
    "# por essa regra o número de dimensões será aquele que somar 80% da variância\n",
    "# total acumulada nos single values da matriz D\n",
    "\n",
    "# variância total\n",
    "var_total = D_cpct.sum()\n",
    "\n",
    "# fazer a soma das variâncias linha a linha até que atinja 80% da total\n",
    "for i in range(D_cpct.shape[0]):\n",
    "    var_trunc = D_cpct[:i].sum() / var_total\n",
    "    if var_trunc >= 0.8:\n",
    "        break\n",
    "print(\"Variância acumulada com\", i, \"dimensões:\", var_trunc)"
   ]
  },
  {
   "cell_type": "code",
   "execution_count": 150,
   "metadata": {
    "scrolled": true
   },
   "outputs": [
    {
     "name": "stdout",
     "output_type": "stream",
     "text": [
      "Variância acumulada com 18 dimensões: 0.8002950894424015\n"
     ]
    }
   ],
   "source": [
    "# uma forma, que parece ser a mais correta de se calcular o número de dimensões\n",
    "\n",
    "# variância total\n",
    "media = np.mean(D_cpct)\n",
    "var_total = np.mean((D_cpct - media) ** 2)\n",
    "vetor_variancias = ((D_cpct) ** 2) / 783\n",
    "\n",
    "# fazer a soma das variâncias linha a linha até que atinja 80% da total\n",
    "for i in range(vetor_variancias.shape[0]):\n",
    "    var_trunc = vetor_variancias[:i].sum() / var_total\n",
    "    if var_trunc >= 0.8:\n",
    "        break\n",
    "print(\"Variância acumulada com\", i, \"dimensões:\", var_trunc)"
   ]
  },
  {
   "cell_type": "code",
   "execution_count": 145,
   "metadata": {},
   "outputs": [
    {
     "data": {
      "text/plain": [
       "array([4.48876423e+06, 3.27387284e+06, 2.79815701e+06, 2.46439899e+06,\n",
       "       2.23261624e+06, 1.95167945e+06, 1.52951830e+06, 1.33591577e+06,\n",
       "       1.27314608e+06, 1.09124107e+06, 9.62705126e+05, 9.20088603e+05,\n",
       "       7.86081981e+05, 7.66494600e+05, 7.29371620e+05, 6.86008588e+05,\n",
       "       6.22214684e+05, 5.86589909e+05, 5.42084809e+05, 5.23334395e+05,\n",
       "       4.82957576e+05, 4.65504332e+05, 4.52368602e+05, 4.23791988e+05,\n",
       "       4.05459203e+05, 3.86859250e+05, 3.71455053e+05, 3.58437929e+05,\n",
       "       3.38523517e+05, 3.20349213e+05, 3.00341340e+05, 2.97256013e+05,\n",
       "       2.75850586e+05, 2.67148033e+05, 2.54432486e+05, 2.46655842e+05,\n",
       "       2.31744058e+05, 2.22498664e+05, 2.20105974e+05, 2.18848862e+05,\n",
       "       2.08711238e+05, 2.01722001e+05, 1.88815352e+05, 1.82091014e+05,\n",
       "       1.75565143e+05, 1.71679730e+05, 1.65298321e+05, 1.58155596e+05,\n",
       "       1.54763243e+05, 1.48277359e+05, 1.46528021e+05, 1.44262852e+05,\n",
       "       1.38909311e+05, 1.31583669e+05, 1.30498798e+05, 1.25048596e+05,\n",
       "       1.23895187e+05, 1.17855078e+05, 1.16180674e+05, 1.13811085e+05,\n",
       "       1.11217684e+05, 1.09186496e+05, 1.03585597e+05, 1.00191533e+05,\n",
       "       9.87007317e+04, 9.62619735e+04, 9.39718642e+04, 9.08169733e+04,\n",
       "       8.58762616e+04, 8.57220525e+04, 8.47386195e+04, 8.30223089e+04,\n",
       "       8.14231626e+04, 8.10497816e+04, 7.68533888e+04, 7.42769246e+04,\n",
       "       7.38297515e+04, 7.00465992e+04, 6.82064935e+04, 6.70829381e+04,\n",
       "       6.52927925e+04, 6.46159612e+04, 6.29428117e+04, 6.26735227e+04,\n",
       "       6.01565567e+04, 5.96439467e+04, 5.87774638e+04, 5.72246854e+04,\n",
       "       5.58903589e+04, 5.48498305e+04, 5.40729584e+04, 5.17215883e+04,\n",
       "       5.08647753e+04, 5.02283438e+04, 4.94419248e+04, 4.89931313e+04,\n",
       "       4.81319901e+04, 4.76734200e+04, 4.59652171e+04, 4.54358910e+04,\n",
       "       4.48511377e+04, 4.39526066e+04, 4.22991733e+04, 4.21588293e+04,\n",
       "       4.10212742e+04, 4.06884609e+04, 3.98543192e+04, 3.89083008e+04,\n",
       "       3.83931531e+04, 3.74492399e+04, 3.64938205e+04, 3.55903525e+04,\n",
       "       3.54454393e+04, 3.51561191e+04, 3.50128735e+04, 3.39995356e+04,\n",
       "       3.37245702e+04, 3.33635546e+04, 3.31875289e+04, 3.23833150e+04,\n",
       "       3.19728466e+04, 3.13461439e+04, 3.07510775e+04, 3.00534595e+04,\n",
       "       2.97984726e+04, 2.94964210e+04, 2.91048401e+04, 2.86940373e+04,\n",
       "       2.82834218e+04, 2.79983019e+04, 2.75953350e+04, 2.73763727e+04,\n",
       "       2.70987183e+04, 2.67007693e+04, 2.64128474e+04, 2.61219156e+04,\n",
       "       2.57031604e+04, 2.56118825e+04, 2.44523351e+04, 2.43115384e+04,\n",
       "       2.39573242e+04, 2.36179300e+04, 2.32731568e+04, 2.29772538e+04,\n",
       "       2.27338736e+04, 2.23611288e+04, 2.22769527e+04, 2.20862944e+04,\n",
       "       2.17584252e+04, 2.16800411e+04, 2.13295085e+04, 2.10495799e+04,\n",
       "       2.08094457e+04, 2.04948661e+04, 2.03780644e+04, 2.00215214e+04,\n",
       "       1.98531728e+04, 1.96855030e+04, 1.92237296e+04, 1.90253372e+04,\n",
       "       1.87500454e+04, 1.85538248e+04, 1.83561760e+04, 1.80126812e+04,\n",
       "       1.78868405e+04, 1.76625143e+04, 1.73959251e+04, 1.71818329e+04,\n",
       "       1.71494998e+04, 1.68732215e+04, 1.67627596e+04, 1.64976973e+04,\n",
       "       1.64521483e+04, 1.62444921e+04, 1.61479984e+04, 1.60479785e+04,\n",
       "       1.58512701e+04, 1.56398869e+04, 1.55238519e+04, 1.53345718e+04,\n",
       "       1.52043146e+04, 1.51156614e+04, 1.49391235e+04, 1.48093838e+04,\n",
       "       1.47528317e+04, 1.46434257e+04, 1.43615983e+04, 1.42901108e+04,\n",
       "       1.41750591e+04, 1.40713510e+04, 1.39783625e+04, 1.38696195e+04,\n",
       "       1.37667540e+04, 1.36825411e+04, 1.34993296e+04, 1.32638567e+04,\n",
       "       1.31306600e+04, 1.30231715e+04, 1.28628343e+04, 1.28535417e+04,\n",
       "       1.27718897e+04, 1.26572953e+04, 1.26296623e+04, 1.24133152e+04,\n",
       "       1.22845462e+04, 1.22088046e+04, 1.20444177e+04, 1.19358317e+04,\n",
       "       1.18490809e+04, 1.18294650e+04, 1.16778812e+04, 1.15824668e+04,\n",
       "       1.14838632e+04, 1.14578946e+04, 1.13770282e+04, 1.13323432e+04,\n",
       "       1.12731415e+04, 1.11710854e+04, 1.10898934e+04, 1.09401393e+04,\n",
       "       1.08477329e+04, 1.07119923e+04, 1.06232993e+04, 1.05894598e+04,\n",
       "       1.05080456e+04, 1.04184516e+04, 1.03390283e+04, 1.02360418e+04,\n",
       "       1.01165917e+04, 1.00814449e+04, 9.99128967e+03, 9.94011931e+03,\n",
       "       9.85446232e+03, 9.80511797e+03, 9.67125437e+03, 9.60829345e+03,\n",
       "       9.56880714e+03, 9.46697074e+03, 9.36405873e+03, 9.31609417e+03,\n",
       "       9.16733788e+03, 9.11479630e+03, 9.06122745e+03, 9.03112065e+03,\n",
       "       8.97172545e+03, 8.87760000e+03, 8.84107654e+03, 8.80961198e+03,\n",
       "       8.77467358e+03, 8.68830166e+03, 8.56506208e+03, 8.52499788e+03,\n",
       "       8.44400384e+03, 8.40379362e+03, 8.35489905e+03, 8.31617172e+03,\n",
       "       8.24257575e+03, 8.20629061e+03, 8.17823895e+03, 8.03797298e+03,\n",
       "       8.00866636e+03, 7.95462578e+03, 7.91505069e+03, 7.83930816e+03,\n",
       "       7.79792724e+03, 7.76592814e+03, 7.63846070e+03, 7.62071313e+03,\n",
       "       7.54568525e+03, 7.45605263e+03, 7.41015300e+03, 7.37289360e+03,\n",
       "       7.35374497e+03, 7.27934788e+03, 7.20078781e+03, 7.18378202e+03,\n",
       "       7.06391953e+03, 7.04907014e+03, 7.02720603e+03, 6.95841381e+03,\n",
       "       6.90838722e+03, 6.89275605e+03, 6.82308558e+03, 6.77417493e+03,\n",
       "       6.70554884e+03, 6.67170536e+03, 6.59706171e+03, 6.55125905e+03,\n",
       "       6.51379792e+03, 6.47767138e+03, 6.43182361e+03, 6.41475497e+03,\n",
       "       6.33670857e+03, 6.31535677e+03, 6.30840547e+03, 6.27837366e+03,\n",
       "       6.24558275e+03, 6.18383031e+03, 6.10951645e+03, 6.10280775e+03,\n",
       "       6.04387982e+03, 5.98625184e+03, 5.90486085e+03, 5.84138184e+03,\n",
       "       5.82379309e+03, 5.79162320e+03, 5.74871419e+03, 5.72211421e+03,\n",
       "       5.67557851e+03, 5.66491115e+03, 5.63758638e+03, 5.55368693e+03,\n",
       "       5.52485842e+03, 5.49207118e+03, 5.46029932e+03, 5.37873751e+03,\n",
       "       5.35779569e+03, 5.31439316e+03, 5.29417919e+03, 5.22453262e+03,\n",
       "       5.20712759e+03, 5.16465269e+03, 5.13982939e+03, 5.08836905e+03,\n",
       "       5.03807868e+03, 5.01014314e+03, 4.98349757e+03, 4.94105238e+03,\n",
       "       4.89954937e+03, 4.88593710e+03, 4.82441976e+03, 4.77454933e+03,\n",
       "       4.76379649e+03, 4.71390356e+03, 4.67110124e+03, 4.63826161e+03,\n",
       "       4.62073745e+03, 4.59958759e+03, 4.58273211e+03, 4.53982018e+03,\n",
       "       4.51220805e+03, 4.46188670e+03, 4.44810461e+03, 4.39418429e+03,\n",
       "       4.38052490e+03, 4.34734503e+03, 4.31127856e+03, 4.28606242e+03,\n",
       "       4.23716624e+03, 4.18122929e+03, 4.16744252e+03, 4.16319189e+03,\n",
       "       4.11117949e+03, 4.04904866e+03, 4.03297830e+03, 3.95532302e+03,\n",
       "       3.94506537e+03, 3.92417009e+03, 3.88164582e+03, 3.84373878e+03,\n",
       "       3.79406337e+03, 3.76337845e+03, 3.75700639e+03, 3.72647234e+03,\n",
       "       3.71640804e+03, 3.68672235e+03, 3.64519671e+03, 3.58881897e+03,\n",
       "       3.56873597e+03, 3.56113575e+03, 3.51986741e+03, 3.49969882e+03,\n",
       "       3.45926801e+03, 3.44304725e+03, 3.42110420e+03, 3.35821851e+03,\n",
       "       3.33002171e+03, 3.31361211e+03, 3.27815627e+03, 3.24824191e+03,\n",
       "       3.21694910e+03, 3.19291536e+03, 3.14480441e+03, 3.11787544e+03,\n",
       "       3.10355823e+03, 3.09295120e+03, 3.05161820e+03, 3.00757084e+03,\n",
       "       2.99147815e+03, 2.97362326e+03, 2.88558119e+03, 2.87289081e+03,\n",
       "       2.83876335e+03, 2.80977285e+03, 2.76843426e+03, 2.73238676e+03,\n",
       "       2.72392782e+03, 2.70564528e+03, 2.67729590e+03, 2.62837451e+03,\n",
       "       2.60963427e+03, 2.59509799e+03, 2.55563936e+03, 2.53589605e+03,\n",
       "       2.51036907e+03, 2.47794840e+03, 2.46091619e+03, 2.42250522e+03,\n",
       "       2.39911575e+03, 2.38165973e+03, 2.37994195e+03, 2.32684829e+03,\n",
       "       2.30296582e+03, 2.27853617e+03, 2.22498244e+03, 2.20135542e+03,\n",
       "       2.18923057e+03, 2.16058561e+03, 2.13115684e+03, 2.08642410e+03,\n",
       "       2.07884644e+03, 2.05992305e+03, 2.05654746e+03, 1.98942528e+03,\n",
       "       1.96780277e+03, 1.95126919e+03, 1.94271275e+03, 1.91742804e+03,\n",
       "       1.86800574e+03, 1.84814725e+03, 1.83167790e+03, 1.81410294e+03,\n",
       "       1.79143442e+03, 1.76394613e+03, 1.74040338e+03, 1.70245179e+03,\n",
       "       1.67714385e+03, 1.65727362e+03, 1.63233341e+03, 1.62567571e+03,\n",
       "       1.60992752e+03, 1.56541878e+03, 1.53384004e+03, 1.52189479e+03,\n",
       "       1.51523263e+03, 1.49651043e+03, 1.46827214e+03, 1.44033867e+03,\n",
       "       1.42562975e+03, 1.40089187e+03, 1.38473963e+03, 1.37247749e+03,\n",
       "       1.36148962e+03, 1.34447711e+03, 1.32896229e+03, 1.31120091e+03,\n",
       "       1.24564186e+03, 1.22945685e+03, 1.20663343e+03, 1.19990243e+03,\n",
       "       1.18656249e+03, 1.16997057e+03, 1.15748588e+03, 1.14272550e+03,\n",
       "       1.12611821e+03, 1.12012341e+03, 1.10780210e+03, 1.09422125e+03,\n",
       "       1.08251343e+03, 1.06414556e+03, 1.04047168e+03, 1.03610957e+03,\n",
       "       1.02802162e+03, 1.02337171e+03, 9.98357294e+02, 9.89082489e+02,\n",
       "       9.64533789e+02, 9.57351671e+02, 9.21089716e+02, 9.01942513e+02,\n",
       "       8.86953349e+02, 8.76400363e+02, 8.67690216e+02, 8.60636168e+02,\n",
       "       8.40528605e+02, 8.27771512e+02, 8.12429931e+02, 8.02991692e+02,\n",
       "       7.98958806e+02, 7.80086387e+02, 7.77116850e+02, 7.74681913e+02,\n",
       "       7.59577398e+02, 7.42727745e+02, 7.37289471e+02, 7.23999351e+02,\n",
       "       7.04121142e+02, 6.90952482e+02, 6.78434919e+02, 6.60315502e+02,\n",
       "       6.53807693e+02, 6.52361015e+02, 6.37825476e+02, 6.25094858e+02,\n",
       "       6.16199703e+02, 6.04131162e+02, 5.88548268e+02, 5.82242508e+02,\n",
       "       5.74653274e+02, 5.70034997e+02, 5.63175470e+02, 5.45728719e+02,\n",
       "       5.41848679e+02, 5.35276937e+02, 5.28278407e+02, 5.20244761e+02,\n",
       "       5.15937157e+02, 5.06962587e+02, 4.93817013e+02, 4.76310862e+02,\n",
       "       4.65747329e+02, 4.58188152e+02, 4.50798008e+02, 4.45611044e+02,\n",
       "       4.28414790e+02, 4.18845890e+02, 4.11261119e+02, 4.06510496e+02,\n",
       "       4.00257115e+02, 3.94767141e+02, 3.71259269e+02, 3.67473992e+02,\n",
       "       3.63232278e+02, 3.59038999e+02, 3.51859676e+02, 3.49418884e+02,\n",
       "       3.41707757e+02, 3.37517104e+02, 3.29638515e+02, 3.24810956e+02,\n",
       "       3.18149523e+02, 3.12389024e+02, 3.09693325e+02, 3.05681151e+02,\n",
       "       2.94896442e+02, 2.72630347e+02, 2.61312280e+02, 2.55441462e+02,\n",
       "       2.44113235e+02, 2.41025493e+02, 2.38402543e+02, 2.30367664e+02,\n",
       "       2.25474685e+02, 2.20998067e+02, 2.18868475e+02, 2.15958734e+02,\n",
       "       2.14250968e+02, 2.07806628e+02, 2.03347226e+02, 1.97955445e+02,\n",
       "       1.92065358e+02, 1.89583345e+02, 1.82887781e+02, 1.73824614e+02,\n",
       "       1.71657042e+02, 1.67701608e+02, 1.66918178e+02, 1.65557477e+02,\n",
       "       1.64195448e+02, 1.60946768e+02, 1.56581285e+02, 1.53933641e+02,\n",
       "       1.48481784e+02, 1.36801490e+02, 1.35093389e+02, 1.33452458e+02,\n",
       "       1.31948588e+02, 1.28774846e+02, 1.26317570e+02, 1.25122604e+02,\n",
       "       1.22301863e+02, 1.20927376e+02, 1.12515869e+02, 1.07081576e+02,\n",
       "       9.94272544e+01, 9.57402104e+01, 9.29880123e+01, 8.79044861e+01,\n",
       "       8.73732177e+01, 8.65782504e+01, 8.44043739e+01, 8.34251286e+01,\n",
       "       8.20465357e+01, 8.13417243e+01, 7.95991012e+01, 7.61237146e+01,\n",
       "       7.41234209e+01, 7.27179964e+01, 7.08695142e+01, 6.65272920e+01,\n",
       "       6.31219876e+01, 6.01195929e+01, 5.75454854e+01, 5.66129571e+01,\n",
       "       5.55967510e+01, 5.52899748e+01, 4.87324607e+01, 4.75762370e+01,\n",
       "       4.69913190e+01, 4.64643829e+01, 4.46752777e+01, 4.45041390e+01,\n",
       "       4.17131465e+01, 4.05316505e+01, 3.85299421e+01, 3.84986163e+01,\n",
       "       3.77051667e+01, 3.74801023e+01, 3.57619561e+01, 3.54197045e+01,\n",
       "       3.11795712e+01, 3.08028334e+01, 3.06733264e+01, 2.93554842e+01,\n",
       "       2.79882398e+01, 2.67733721e+01, 2.54507351e+01, 2.51511520e+01,\n",
       "       2.42047669e+01, 2.25453734e+01, 1.89475822e+01, 1.87589162e+01,\n",
       "       1.85034345e+01, 1.75742916e+01, 1.68822813e+01, 1.58854512e+01,\n",
       "       1.38831464e+01, 1.20610271e+01, 1.19832512e+01, 1.11066334e+01,\n",
       "       1.00465140e+01, 9.47215606e+00, 8.10000435e+00, 7.96370919e+00,\n",
       "       6.67457187e+00, 6.07206381e+00, 5.57355997e+00, 5.22391261e+00,\n",
       "       5.12703405e+00, 4.77270498e+00, 4.60229836e+00, 3.82732333e+00,\n",
       "       3.41155166e+00, 3.13448929e+00, 3.06932033e+00, 2.34326315e+00,\n",
       "       2.30060720e+00, 2.25293268e+00, 2.04589017e+00, 1.76005780e+00,\n",
       "       1.24004475e+00, 9.24893157e-01, 7.05115770e-01, 6.27514908e-01,\n",
       "       6.11397529e-01, 4.00385994e-01, 2.45370503e-01, 1.93499333e-01,\n",
       "       9.84897451e-02, 9.77993288e-02, 5.78128607e-02, 8.87008610e-25,\n",
       "       1.52640189e-25, 1.23083177e-25, 1.04022788e-25, 7.15708390e-26,\n",
       "       6.25215911e-26, 4.73343673e-26, 4.21151513e-26, 3.95646021e-26,\n",
       "       2.38305713e-26, 1.96258405e-26, 1.59512547e-26, 1.50203774e-26,\n",
       "       1.50203774e-26, 1.50203774e-26, 1.50203774e-26, 1.50203774e-26,\n",
       "       1.50203774e-26, 1.50203774e-26, 1.50203774e-26, 1.50203774e-26,\n",
       "       1.50203774e-26, 1.50203774e-26, 1.50203774e-26, 1.50203774e-26,\n",
       "       1.50203774e-26, 1.50203774e-26, 1.50203774e-26, 1.50203774e-26,\n",
       "       1.50203774e-26, 1.50203774e-26, 1.50203774e-26, 1.50203774e-26,\n",
       "       1.50203774e-26, 1.50203774e-26, 1.50203774e-26, 1.50203774e-26,\n",
       "       1.50203774e-26, 1.50203774e-26, 1.50203774e-26, 1.50203774e-26,\n",
       "       1.50203774e-26, 1.50203774e-26, 1.50203774e-26, 1.50203774e-26,\n",
       "       1.50203774e-26, 1.50203774e-26, 1.50203774e-26, 1.50203774e-26,\n",
       "       1.50203774e-26, 1.50203774e-26, 1.50203774e-26, 1.50203774e-26,\n",
       "       1.50203774e-26, 1.50203774e-26, 1.50203774e-26, 1.50203774e-26,\n",
       "       1.50203774e-26, 1.50203774e-26, 1.50203774e-26, 1.50203774e-26,\n",
       "       1.50203774e-26, 1.50203774e-26, 1.50203774e-26, 1.50203774e-26,\n",
       "       1.50203774e-26, 1.50203774e-26, 1.50203774e-26, 1.50203774e-26,\n",
       "       1.50203774e-26, 1.50203774e-26, 1.50203774e-26, 1.50203774e-26,\n",
       "       1.50203774e-26, 1.50203774e-26, 1.50203774e-26, 1.50203774e-26,\n",
       "       1.50203774e-26, 1.50203774e-26, 1.50203774e-26, 1.50203774e-26,\n",
       "       1.50203774e-26, 1.50203774e-26, 1.50203774e-26, 1.50203774e-26,\n",
       "       1.50203774e-26, 1.50203774e-26, 1.50203774e-26, 1.50203774e-26,\n",
       "       1.50203774e-26, 1.50203774e-26, 1.50203774e-26, 1.50203774e-26,\n",
       "       1.50203774e-26, 1.50203774e-26, 1.50203774e-26, 1.50203774e-26,\n",
       "       1.50203774e-26, 1.50203774e-26, 1.50203774e-26, 1.50203774e-26,\n",
       "       1.50203774e-26, 1.50203774e-26, 1.50203774e-26, 1.50203774e-26,\n",
       "       1.50203774e-26, 1.50203774e-26, 1.50203774e-26, 1.34543005e-26,\n",
       "       7.48848862e-27, 5.35702067e-27, 1.96464289e-27, 9.30374453e-28])"
      ]
     },
     "execution_count": 145,
     "metadata": {},
     "output_type": "execute_result"
    }
   ],
   "source": [
    "(D_cpct ** 2) / 783"
   ]
  },
  {
   "cell_type": "markdown",
   "metadata": {},
   "source": [
    "#### 7.3 - Quantas dimensões manter para capturar 95% da variância dos dados"
   ]
  },
  {
   "cell_type": "code",
   "execution_count": 68,
   "metadata": {},
   "outputs": [
    {
     "name": "stdout",
     "output_type": "stream",
     "text": [
      "Variância acumulada com 426 dimensões: 0.9502576388383301\n"
     ]
    }
   ],
   "source": [
    "# por essa regra o número de dimensões será aquele que somar 95% da variância\n",
    "# total acumulada nos single values da matriz D\n",
    "\n",
    "# variância total\n",
    "var_total = D_cpct.sum()\n",
    "\n",
    "# fazer a soma das variâncias linha a linha até que atinja 95% da total\n",
    "for i in range(D_cpct.shape[0]):\n",
    "    var_trunc = D_cpct[:i].sum() / var_total\n",
    "    if var_trunc >= 0.95:\n",
    "        break\n",
    "print(\"Variância acumulada com\", i, \"dimensões:\", var_trunc)"
   ]
  },
  {
   "cell_type": "code",
   "execution_count": 87,
   "metadata": {},
   "outputs": [
    {
     "name": "stdout",
     "output_type": "stream",
     "text": [
      "[0.09794457 0.07143571 0.06105562 0.05377304 0.04871555 0.04258553\n",
      " 0.033374   0.0291496  0.02777997 0.02381081 0.02100617 0.02007628\n",
      " 0.01715226 0.01672487 0.01591485 0.01496867 0.01357669 0.01279936\n",
      " 0.01182826 0.01141913 0.01053811 0.01015728 0.00987066 0.00924712\n",
      " 0.0088471  0.00844125 0.00810513 0.00782109 0.00738656 0.00699\n",
      " 0.00655343 0.00648611 0.00601904 0.00582915 0.0055517  0.00538202\n",
      " 0.00505664 0.00485491 0.0048027  0.00477527 0.00455407 0.00440156\n",
      " 0.00411994]\n",
      "(43,)\n"
     ]
    }
   ],
   "source": [
    "# comparando com o PCA para 80% da variância\n",
    "from sklearn.decomposition import PCA\n",
    "pca = PCA(.8)\n",
    "pca.fit(X)\n",
    "print(pca.explained_variance_ratio_)\n",
    "print(pca.explained_variance_ratio_.shape)"
   ]
  },
  {
   "cell_type": "code",
   "execution_count": 88,
   "metadata": {},
   "outputs": [
    {
     "data": {
      "text/plain": [
       "0.8008817322938911"
      ]
     },
     "execution_count": 88,
     "metadata": {},
     "output_type": "execute_result"
    }
   ],
   "source": [
    "pca.explained_variance_ratio_.sum()"
   ]
  },
  {
   "cell_type": "code",
   "execution_count": 80,
   "metadata": {
    "scrolled": false
   },
   "outputs": [
    {
     "name": "stdout",
     "output_type": "stream",
     "text": [
      "[0.09794457 0.07143571 0.06105562 0.05377304 0.04871555 0.04258553\n",
      " 0.033374   0.0291496  0.02777997 0.02381081 0.02100617 0.02007628\n",
      " 0.01715226 0.01672487 0.01591485 0.01496867 0.01357669 0.01279936\n",
      " 0.01182826 0.01141913 0.01053811 0.01015728 0.00987066 0.00924712\n",
      " 0.0088471  0.00844125 0.00810513 0.00782109 0.00738656 0.00699\n",
      " 0.00655343 0.00648611 0.00601904 0.00582915 0.0055517  0.00538202\n",
      " 0.00505664 0.00485491 0.0048027  0.00477527 0.00455407 0.00440156\n",
      " 0.00411994 0.00397322 0.00383082 0.00374604 0.0036068  0.00345095\n",
      " 0.00337692 0.0032354  0.00319723 0.00314781 0.00303099 0.00287115\n",
      " 0.00284748 0.00272855 0.00270339 0.00257159 0.00253506 0.00248335\n",
      " 0.00242676 0.00238244 0.00226023 0.00218617 0.00215364 0.00210043\n",
      " 0.00205046 0.00198162 0.00187381 0.00187045 0.00184899 0.00181154\n",
      " 0.00177665 0.0017685  0.00167694 0.00162072 0.00161096 0.00152841\n",
      " 0.00148826 0.00146375 0.00142468 0.00140992 0.00137341 0.00136753\n",
      " 0.00131261 0.00130143 0.00128252 0.00124864 0.00121952 0.00119682\n",
      " 0.00117987 0.00112856 0.00110987 0.00109598 0.00107882 0.00106903\n",
      " 0.00105024 0.00104023 0.00100296 0.00099141 0.00097865 0.00095904\n",
      " 0.00092297 0.0009199  0.00089508 0.00088782 0.00086962 0.00084898\n",
      " 0.00083774 0.00081714 0.00079629 0.00077658 0.00077342 0.0007671\n",
      " 0.00076398 0.00074187 0.00073587 0.00072799 0.00072415 0.0007066\n",
      " 0.00069765 0.00068397 0.00067099 0.00065576 0.0006502  0.00064361\n",
      " 0.00063507 0.0006261  0.00061714 0.00061092 0.00060213 0.00059735\n",
      " 0.00059129 0.00058261 0.00057633 0.00056998 0.00056084 0.00055885\n",
      " 0.00053355 0.00053048 0.00052275 0.00051534 0.00050782 0.00050136\n",
      " 0.00049605 0.00048792 0.00048608 0.00048192 0.00047477 0.00047306\n",
      " 0.00046541]\n",
      "(151,)\n"
     ]
    }
   ],
   "source": [
    "# comparando com o PCA para 95% da variância\n",
    "from sklearn.decomposition import PCA\n",
    "pca = PCA(.95)\n",
    "pca.fit(X)\n",
    "print(pca.explained_variance_ratio_)\n",
    "print(pca.explained_variance_ratio_.shape)"
   ]
  },
  {
   "cell_type": "code",
   "execution_count": 78,
   "metadata": {},
   "outputs": [
    {
     "data": {
      "text/plain": [
       "0.9500413457056949"
      ]
     },
     "execution_count": 78,
     "metadata": {},
     "output_type": "execute_result"
    }
   ],
   "source": [
    "pca.explained_variance_ratio_.sum()"
   ]
  },
  {
   "cell_type": "code",
   "execution_count": null,
   "metadata": {},
   "outputs": [],
   "source": []
  }
 ],
 "metadata": {
  "kernelspec": {
   "display_name": "Python 3",
   "language": "python",
   "name": "python3"
  },
  "language_info": {
   "codemirror_mode": {
    "name": "ipython",
    "version": 3
   },
   "file_extension": ".py",
   "mimetype": "text/x-python",
   "name": "python",
   "nbconvert_exporter": "python",
   "pygments_lexer": "ipython3",
   "version": "3.8.5"
  }
 },
 "nbformat": 4,
 "nbformat_minor": 4
}
